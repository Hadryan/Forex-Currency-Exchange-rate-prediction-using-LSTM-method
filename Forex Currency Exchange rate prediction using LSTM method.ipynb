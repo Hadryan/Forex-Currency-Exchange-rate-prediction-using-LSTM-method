{
  "cells": [
    {
      "cell_type": "code",
      "source": [
        "import numpy as np\n",
        "import matplotlib.pyplot as plt\n",
        "import pandas as pd"
      ],
      "outputs": [],
      "execution_count": 1,
      "metadata": {}
    },
    {
      "cell_type": "code",
      "source": [
        "df_train = pd.read_csv('C:\\\\IPSR\\\\Deep_learning\\\\13-01-2020\\\\Tenyrstrain.csv')\n",
        "trainset = df_train.iloc[:, 1:2].values\n",
        "df_train.info()"
      ],
      "outputs": [
        {
          "output_type": "stream",
          "name": "stdout",
          "text": [
            "<class 'pandas.core.frame.DataFrame'>\n",
            "RangeIndex: 3426 entries, 0 to 3425\n",
            "Data columns (total 2 columns):\n",
            "Date (GMT)    3426 non-null object\n",
            "Rate**        3426 non-null float64\n",
            "dtypes: float64(1), object(1)\n",
            "memory usage: 53.7+ KB\n"
          ]
        }
      ],
      "execution_count": 25,
      "metadata": {}
    },
    {
      "cell_type": "code",
      "source": [
        "from sklearn.preprocessing import MinMaxScaler\n",
        "sc = MinMaxScaler(feature_range = (0, 1))\n",
        "trainsetnew = sc.fit_transform(trainset)"
      ],
      "outputs": [],
      "execution_count": 3,
      "metadata": {}
    },
    {
      "cell_type": "code",
      "source": [
        "X_train = []\n",
        "y_train = []\n",
        "for i in range(50, 3400):\n",
        "    X_train.append(trainsetnew[i-50:i, 0])\n",
        "    y_train.append(trainsetnew[i, 0])\n",
        "X_train, y_train = np.array(X_train), np.array(y_train)\n",
        "X_train = np.reshape(X_train, (X_train.shape[0],X_train.shape[1], 1))\n",
        "print(X_train.shape)"
      ],
      "outputs": [
        {
          "output_type": "stream",
          "name": "stdout",
          "text": [
            "(3350, 50, 1)\n"
          ]
        }
      ],
      "execution_count": 4,
      "metadata": {}
    },
    {
      "cell_type": "code",
      "source": [
        "trainsetnew[i-50:i, 0]"
      ],
      "outputs": [
        {
          "output_type": "execute_result",
          "execution_count": 5,
          "data": {
            "text/plain": [
              "array([0.86898887, 0.87455249, 0.87495565, 0.87495565, 0.85641026,\n",
              "       0.85205612, 0.85482987, 0.85300758, 0.84397678, 0.84375101,\n",
              "       0.84341235, 0.84687954, 0.85081438, 0.85931301, 0.85707144,\n",
              "       0.85029834, 0.85017255, 0.85020158, 0.8369263 , 0.84405741,\n",
              "       0.84404128, 0.83873569, 0.84236413, 0.84405741, 0.84405741,\n",
              "       0.8470408 , 0.8445412 , 0.84397839, 0.84816965, 0.85824867,\n",
              "       0.85836155, 0.85836155, 0.85866796, 0.84712143, 0.85346557,\n",
              "       0.84923399, 0.84978229, 0.85018545, 0.85018545, 0.84036446,\n",
              "       0.83967102, 0.83663925, 0.83244799, 0.82908886, 0.82987583,\n",
              "       0.82987583, 0.82854378, 0.82793098, 0.82502822, 0.81728753])"
            ]
          },
          "metadata": {}
        }
      ],
      "execution_count": 5,
      "metadata": {}
    },
    {
      "cell_type": "code",
      "source": [
        "trainsetnew[i, 0]"
      ],
      "outputs": [
        {
          "output_type": "execute_result",
          "execution_count": 6,
          "data": {
            "text/plain": [
              "0.817255281406225"
            ]
          },
          "metadata": {}
        }
      ],
      "execution_count": 6,
      "metadata": {}
    },
    {
      "cell_type": "code",
      "source": [
        "from keras.models import Sequential\n",
        "from keras.layers import Dense\n",
        "from keras.layers import LSTM\n",
        "from keras.layers import Dropout"
      ],
      "outputs": [
        {
          "output_type": "stream",
          "name": "stderr",
          "text": [
            "Using TensorFlow backend.\n",
            "C:\\Users\\91701\\Anaconda3\\lib\\site-packages\\tensorflow\\python\\framework\\dtypes.py:516: FutureWarning: Passing (type, 1) or '1type' as a synonym of type is deprecated; in a future version of numpy, it will be understood as (type, (1,)) / '(1,)type'.\n",
            "  _np_qint8 = np.dtype([(\"qint8\", np.int8, 1)])\n",
            "C:\\Users\\91701\\Anaconda3\\lib\\site-packages\\tensorflow\\python\\framework\\dtypes.py:517: FutureWarning: Passing (type, 1) or '1type' as a synonym of type is deprecated; in a future version of numpy, it will be understood as (type, (1,)) / '(1,)type'.\n",
            "  _np_quint8 = np.dtype([(\"quint8\", np.uint8, 1)])\n",
            "C:\\Users\\91701\\Anaconda3\\lib\\site-packages\\tensorflow\\python\\framework\\dtypes.py:518: FutureWarning: Passing (type, 1) or '1type' as a synonym of type is deprecated; in a future version of numpy, it will be understood as (type, (1,)) / '(1,)type'.\n",
            "  _np_qint16 = np.dtype([(\"qint16\", np.int16, 1)])\n",
            "C:\\Users\\91701\\Anaconda3\\lib\\site-packages\\tensorflow\\python\\framework\\dtypes.py:519: FutureWarning: Passing (type, 1) or '1type' as a synonym of type is deprecated; in a future version of numpy, it will be understood as (type, (1,)) / '(1,)type'.\n",
            "  _np_quint16 = np.dtype([(\"quint16\", np.uint16, 1)])\n",
            "C:\\Users\\91701\\Anaconda3\\lib\\site-packages\\tensorflow\\python\\framework\\dtypes.py:520: FutureWarning: Passing (type, 1) or '1type' as a synonym of type is deprecated; in a future version of numpy, it will be understood as (type, (1,)) / '(1,)type'.\n",
            "  _np_qint32 = np.dtype([(\"qint32\", np.int32, 1)])\n",
            "C:\\Users\\91701\\Anaconda3\\lib\\site-packages\\tensorflow\\python\\framework\\dtypes.py:525: FutureWarning: Passing (type, 1) or '1type' as a synonym of type is deprecated; in a future version of numpy, it will be understood as (type, (1,)) / '(1,)type'.\n",
            "  np_resource = np.dtype([(\"resource\", np.ubyte, 1)])\n",
            "C:\\Users\\91701\\Anaconda3\\lib\\site-packages\\tensorboard\\compat\\tensorflow_stub\\dtypes.py:541: FutureWarning: Passing (type, 1) or '1type' as a synonym of type is deprecated; in a future version of numpy, it will be understood as (type, (1,)) / '(1,)type'.\n",
            "  _np_qint8 = np.dtype([(\"qint8\", np.int8, 1)])\n",
            "C:\\Users\\91701\\Anaconda3\\lib\\site-packages\\tensorboard\\compat\\tensorflow_stub\\dtypes.py:542: FutureWarning: Passing (type, 1) or '1type' as a synonym of type is deprecated; in a future version of numpy, it will be understood as (type, (1,)) / '(1,)type'.\n",
            "  _np_quint8 = np.dtype([(\"quint8\", np.uint8, 1)])\n",
            "C:\\Users\\91701\\Anaconda3\\lib\\site-packages\\tensorboard\\compat\\tensorflow_stub\\dtypes.py:543: FutureWarning: Passing (type, 1) or '1type' as a synonym of type is deprecated; in a future version of numpy, it will be understood as (type, (1,)) / '(1,)type'.\n",
            "  _np_qint16 = np.dtype([(\"qint16\", np.int16, 1)])\n",
            "C:\\Users\\91701\\Anaconda3\\lib\\site-packages\\tensorboard\\compat\\tensorflow_stub\\dtypes.py:544: FutureWarning: Passing (type, 1) or '1type' as a synonym of type is deprecated; in a future version of numpy, it will be understood as (type, (1,)) / '(1,)type'.\n",
            "  _np_quint16 = np.dtype([(\"quint16\", np.uint16, 1)])\n",
            "C:\\Users\\91701\\Anaconda3\\lib\\site-packages\\tensorboard\\compat\\tensorflow_stub\\dtypes.py:545: FutureWarning: Passing (type, 1) or '1type' as a synonym of type is deprecated; in a future version of numpy, it will be understood as (type, (1,)) / '(1,)type'.\n",
            "  _np_qint32 = np.dtype([(\"qint32\", np.int32, 1)])\n",
            "C:\\Users\\91701\\Anaconda3\\lib\\site-packages\\tensorboard\\compat\\tensorflow_stub\\dtypes.py:550: FutureWarning: Passing (type, 1) or '1type' as a synonym of type is deprecated; in a future version of numpy, it will be understood as (type, (1,)) / '(1,)type'.\n",
            "  np_resource = np.dtype([(\"resource\", np.ubyte, 1)])\n"
          ]
        }
      ],
      "execution_count": 7,
      "metadata": {}
    },
    {
      "cell_type": "code",
      "source": [
        "regressor = Sequential()"
      ],
      "outputs": [],
      "execution_count": 8,
      "metadata": {}
    },
    {
      "cell_type": "code",
      "source": [
        "regressor.add(LSTM(units = 50, return_sequences = True,\n",
        "input_shape = (X_train.shape[1], 1)))\n",
        "regressor.add(Dropout(0.2))\n",
        "regressor.add(LSTM(units = 50, return_sequences = True))\n",
        "regressor.add(Dropout(0.2))\n",
        "regressor.add(LSTM(units = 50, return_sequences = True))\n",
        "regressor.add(Dropout(0.2))\n",
        "regressor.add(LSTM(units = 50))\n",
        "regressor.add(Dropout(0.2))\n"
      ],
      "outputs": [],
      "execution_count": 9,
      "metadata": {}
    },
    {
      "cell_type": "code",
      "source": [
        "regressor.add(Dense(units = 1))"
      ],
      "outputs": [],
      "execution_count": 10,
      "metadata": {}
    },
    {
      "cell_type": "code",
      "source": [
        "regressor.compile(optimizer = 'adam', loss ='mean_squared_error')"
      ],
      "outputs": [],
      "execution_count": 11,
      "metadata": {}
    },
    {
      "cell_type": "code",
      "source": [
        "regressor.summary()"
      ],
      "outputs": [
        {
          "output_type": "stream",
          "name": "stdout",
          "text": [
            "Model: \"sequential_1\"\n",
            "_________________________________________________________________\n",
            "Layer (type)                 Output Shape              Param #   \n",
            "=================================================================\n",
            "lstm_1 (LSTM)                (None, 50, 50)            10400     \n",
            "_________________________________________________________________\n",
            "dropout_1 (Dropout)          (None, 50, 50)            0         \n",
            "_________________________________________________________________\n",
            "lstm_2 (LSTM)                (None, 50, 50)            20200     \n",
            "_________________________________________________________________\n",
            "dropout_2 (Dropout)          (None, 50, 50)            0         \n",
            "_________________________________________________________________\n",
            "lstm_3 (LSTM)                (None, 50, 50)            20200     \n",
            "_________________________________________________________________\n",
            "dropout_3 (Dropout)          (None, 50, 50)            0         \n",
            "_________________________________________________________________\n",
            "lstm_4 (LSTM)                (None, 50)                20200     \n",
            "_________________________________________________________________\n",
            "dropout_4 (Dropout)          (None, 50)                0         \n",
            "_________________________________________________________________\n",
            "dense_1 (Dense)              (None, 1)                 51        \n",
            "=================================================================\n",
            "Total params: 71,051\n",
            "Trainable params: 71,051\n",
            "Non-trainable params: 0\n",
            "_________________________________________________________________\n"
          ]
        }
      ],
      "execution_count": 12,
      "metadata": {}
    },
    {
      "cell_type": "code",
      "source": [
        "regressor.fit(X_train, y_train, epochs =100, batch_size = 32)"
      ],
      "outputs": [
        {
          "output_type": "stream",
          "name": "stdout",
          "text": [
            "WARNING:tensorflow:From C:\\Users\\91701\\Anaconda3\\lib\\site-packages\\keras\\backend\\tensorflow_backend.py:422: The name tf.global_variables is deprecated. Please use tf.compat.v1.global_variables instead.\n",
            "\n",
            "Epoch 1/100\n",
            "3350/3350 [==============================] - 19s 6ms/step - loss: 0.0176\n",
            "Epoch 2/100\n",
            "3350/3350 [==============================] - 17s 5ms/step - loss: 0.0044\n",
            "Epoch 3/100\n",
            "3350/3350 [==============================] - 17s 5ms/step - loss: 0.0038\n",
            "Epoch 4/100\n",
            "3350/3350 [==============================] - 17s 5ms/step - loss: 0.0034\n",
            "Epoch 5/100\n",
            "3350/3350 [==============================] - 17s 5ms/step - loss: 0.0032\n",
            "Epoch 6/100\n",
            "3350/3350 [==============================] - 17s 5ms/step - loss: 0.0030\n",
            "Epoch 7/100\n",
            "3350/3350 [==============================] - 17s 5ms/step - loss: 0.0028\n",
            "Epoch 8/100\n",
            "3350/3350 [==============================] - 14s 4ms/step - loss: 0.0026\n",
            "Epoch 9/100\n",
            "3350/3350 [==============================] - 13s 4ms/step - loss: 0.0023\n",
            "Epoch 10/100\n",
            "3350/3350 [==============================] - 12s 4ms/step - loss: 0.0023\n",
            "Epoch 11/100\n",
            "3350/3350 [==============================] - 12s 4ms/step - loss: 0.0024\n",
            "Epoch 12/100\n",
            "3350/3350 [==============================] - 12s 4ms/step - loss: 0.0023\n",
            "Epoch 13/100\n",
            "3350/3350 [==============================] - 12s 4ms/step - loss: 0.0023\n",
            "Epoch 14/100\n",
            "3350/3350 [==============================] - 12s 4ms/step - loss: 0.0021\n",
            "Epoch 15/100\n",
            "3350/3350 [==============================] - 12s 4ms/step - loss: 0.0021\n",
            "Epoch 16/100\n",
            "3350/3350 [==============================] - 12s 4ms/step - loss: 0.0019\n",
            "Epoch 17/100\n",
            "3350/3350 [==============================] - 12s 4ms/step - loss: 0.0021\n",
            "Epoch 18/100\n",
            "3350/3350 [==============================] - 12s 4ms/step - loss: 0.0019\n",
            "Epoch 19/100\n",
            "3350/3350 [==============================] - 12s 4ms/step - loss: 0.0018\n",
            "Epoch 20/100\n",
            "3350/3350 [==============================] - 12s 4ms/step - loss: 0.0018\n",
            "Epoch 21/100\n",
            "3350/3350 [==============================] - 12s 4ms/step - loss: 0.0017\n",
            "Epoch 22/100\n",
            "3350/3350 [==============================] - 12s 4ms/step - loss: 0.0017\n",
            "Epoch 23/100\n",
            "3350/3350 [==============================] - 12s 4ms/step - loss: 0.0016\n",
            "Epoch 24/100\n",
            "3350/3350 [==============================] - 12s 4ms/step - loss: 0.0015\n",
            "Epoch 25/100\n",
            "3350/3350 [==============================] - 12s 4ms/step - loss: 0.0015\n",
            "Epoch 26/100\n",
            "3350/3350 [==============================] - 12s 4ms/step - loss: 0.0015\n",
            "Epoch 27/100\n",
            "3350/3350 [==============================] - 12s 4ms/step - loss: 0.0014\n",
            "Epoch 28/100\n",
            "3350/3350 [==============================] - 12s 4ms/step - loss: 0.0014\n",
            "Epoch 29/100\n",
            "3350/3350 [==============================] - 12s 4ms/step - loss: 0.0013\n",
            "Epoch 30/100\n",
            "3350/3350 [==============================] - 12s 4ms/step - loss: 0.0014\n",
            "Epoch 31/100\n",
            "3350/3350 [==============================] - 12s 4ms/step - loss: 0.0013\n",
            "Epoch 32/100\n",
            "3350/3350 [==============================] - 12s 4ms/step - loss: 0.0012\n",
            "Epoch 33/100\n",
            "3350/3350 [==============================] - 12s 4ms/step - loss: 0.0012\n",
            "Epoch 34/100\n",
            "3350/3350 [==============================] - 12s 4ms/step - loss: 0.0011\n",
            "Epoch 35/100\n",
            "3350/3350 [==============================] - 12s 4ms/step - loss: 0.0011\n",
            "Epoch 36/100\n",
            "3350/3350 [==============================] - 12s 4ms/step - loss: 0.0011\n",
            "Epoch 37/100\n",
            "3350/3350 [==============================] - 12s 4ms/step - loss: 0.0012\n",
            "Epoch 38/100\n",
            "3350/3350 [==============================] - 12s 4ms/step - loss: 0.0011\n",
            "Epoch 39/100\n",
            "3350/3350 [==============================] - 12s 4ms/step - loss: 0.0010\n",
            "Epoch 40/100\n",
            "3350/3350 [==============================] - 12s 4ms/step - loss: 0.0011\n",
            "Epoch 41/100\n",
            "3350/3350 [==============================] - 12s 4ms/step - loss: 0.0010\n",
            "Epoch 42/100\n",
            "3350/3350 [==============================] - 12s 4ms/step - loss: 9.9068e-04\n",
            "Epoch 43/100\n",
            "3350/3350 [==============================] - 12s 4ms/step - loss: 0.0010\n",
            "Epoch 44/100\n",
            "3350/3350 [==============================] - 12s 4ms/step - loss: 0.0010\n",
            "Epoch 45/100\n",
            "3350/3350 [==============================] - 12s 4ms/step - loss: 9.6615e-04\n",
            "Epoch 46/100\n",
            "3350/3350 [==============================] - 12s 4ms/step - loss: 9.9474e-04\n",
            "Epoch 47/100\n",
            "3350/3350 [==============================] - 12s 4ms/step - loss: 9.7508e-04\n",
            "Epoch 48/100\n",
            "3350/3350 [==============================] - 12s 3ms/step - loss: 9.4740e-04\n",
            "Epoch 49/100\n",
            "3350/3350 [==============================] - 11s 3ms/step - loss: 9.1995e-04\n",
            "Epoch 50/100\n",
            "3350/3350 [==============================] - 11s 3ms/step - loss: 9.6200e-04\n",
            "Epoch 51/100\n",
            "3350/3350 [==============================] - 11s 3ms/step - loss: 8.8575e-04\n",
            "Epoch 52/100\n",
            "3350/3350 [==============================] - 11s 3ms/step - loss: 9.4956e-04\n",
            "Epoch 53/100\n",
            "3350/3350 [==============================] - 11s 3ms/step - loss: 9.2936e-04\n",
            "Epoch 54/100\n",
            "3350/3350 [==============================] - 11s 3ms/step - loss: 9.6709e-04\n",
            "Epoch 55/100\n",
            "3350/3350 [==============================] - 11s 3ms/step - loss: 8.8029e-04\n",
            "Epoch 56/100\n",
            "3350/3350 [==============================] - 11s 3ms/step - loss: 8.5977e-04\n",
            "Epoch 57/100\n",
            "3350/3350 [==============================] - 11s 3ms/step - loss: 8.7565e-04\n",
            "Epoch 58/100\n",
            "3350/3350 [==============================] - 11s 3ms/step - loss: 9.6437e-04\n",
            "Epoch 59/100\n",
            "3350/3350 [==============================] - 11s 3ms/step - loss: 8.9335e-04\n",
            "Epoch 60/100\n",
            "3350/3350 [==============================] - 11s 3ms/step - loss: 8.5922e-04\n",
            "Epoch 61/100\n",
            "3350/3350 [==============================] - 11s 3ms/step - loss: 9.2378e-04\n",
            "Epoch 62/100\n",
            "3350/3350 [==============================] - 11s 3ms/step - loss: 8.3317e-04\n",
            "Epoch 63/100\n",
            "3350/3350 [==============================] - 12s 3ms/step - loss: 8.3469e-04\n",
            "Epoch 64/100\n",
            "3350/3350 [==============================] - 11s 3ms/step - loss: 8.1340e-04\n",
            "Epoch 65/100\n",
            "3350/3350 [==============================] - 11s 3ms/step - loss: 8.0152e-04\n",
            "Epoch 66/100\n",
            "3350/3350 [==============================] - 11s 3ms/step - loss: 8.5602e-04\n",
            "Epoch 67/100\n",
            "3350/3350 [==============================] - 11s 3ms/step - loss: 8.2956e-04\n",
            "Epoch 68/100\n",
            "3350/3350 [==============================] - 11s 3ms/step - loss: 7.7525e-04\n",
            "Epoch 69/100\n",
            "3350/3350 [==============================] - 11s 3ms/step - loss: 8.4239e-04\n",
            "Epoch 70/100\n",
            "3350/3350 [==============================] - 12s 3ms/step - loss: 8.0037e-04\n",
            "Epoch 71/100\n",
            "3350/3350 [==============================] - 11s 3ms/step - loss: 8.6326e-04\n",
            "Epoch 72/100\n",
            "3350/3350 [==============================] - 11s 3ms/step - loss: 8.4821e-04\n",
            "Epoch 73/100\n",
            "3350/3350 [==============================] - 11s 3ms/step - loss: 7.6288e-04\n",
            "Epoch 74/100\n",
            "3350/3350 [==============================] - 11s 3ms/step - loss: 7.8774e-04\n",
            "Epoch 75/100\n",
            "3350/3350 [==============================] - 11s 3ms/step - loss: 7.6719e-04\n",
            "Epoch 76/100\n",
            "3350/3350 [==============================] - 11s 3ms/step - loss: 7.7998e-04\n",
            "Epoch 77/100\n",
            "3350/3350 [==============================] - 12s 3ms/step - loss: 7.6821e-04\n",
            "Epoch 78/100\n",
            "3350/3350 [==============================] - 11s 3ms/step - loss: 8.4675e-04\n",
            "Epoch 79/100\n",
            "3350/3350 [==============================] - 11s 3ms/step - loss: 7.5853e-04\n",
            "Epoch 80/100\n",
            "3350/3350 [==============================] - 11s 3ms/step - loss: 7.8239e-04\n",
            "Epoch 81/100\n",
            "3350/3350 [==============================] - 12s 3ms/step - loss: 8.3343e-04\n",
            "Epoch 82/100\n",
            "3350/3350 [==============================] - 11s 3ms/step - loss: 7.5007e-04\n",
            "Epoch 83/100\n",
            "3350/3350 [==============================] - 11s 3ms/step - loss: 7.8704e-04\n",
            "Epoch 84/100\n",
            "3350/3350 [==============================] - 12s 3ms/step - loss: 8.1517e-04\n",
            "Epoch 85/100\n",
            "3350/3350 [==============================] - 12s 4ms/step - loss: 8.0918e-04\n",
            "Epoch 86/100\n",
            "3350/3350 [==============================] - 11s 3ms/step - loss: 7.4073e-04\n",
            "Epoch 87/100\n",
            "3350/3350 [==============================] - 11s 3ms/step - loss: 7.3611e-04\n",
            "Epoch 88/100\n",
            "3350/3350 [==============================] - 12s 3ms/step - loss: 7.7564e-04\n",
            "Epoch 89/100\n",
            "3350/3350 [==============================] - 12s 3ms/step - loss: 7.4394e-04\n",
            "Epoch 90/100\n",
            "3350/3350 [==============================] - 11s 3ms/step - loss: 7.8843e-04\n",
            "Epoch 91/100\n"
          ]
        },
        {
          "output_type": "stream",
          "name": "stdout",
          "text": [
            "3350/3350 [==============================] - 11s 3ms/step - loss: 7.4282e-04\n",
            "Epoch 92/100\n",
            "3350/3350 [==============================] - 11s 3ms/step - loss: 7.9504e-04\n",
            "Epoch 93/100\n",
            "3350/3350 [==============================] - 11s 3ms/step - loss: 6.9574e-04\n",
            "Epoch 94/100\n",
            "3350/3350 [==============================] - 11s 3ms/step - loss: 7.4672e-04\n",
            "Epoch 95/100\n",
            "3350/3350 [==============================] - 11s 3ms/step - loss: 7.4052e-04\n",
            "Epoch 96/100\n",
            "3350/3350 [==============================] - 11s 3ms/step - loss: 7.1619e-04\n",
            "Epoch 97/100\n",
            "3350/3350 [==============================] - 11s 3ms/step - loss: 6.9416e-04\n",
            "Epoch 98/100\n",
            "3350/3350 [==============================] - 11s 3ms/step - loss: 7.0403e-04\n",
            "Epoch 99/100\n",
            "3350/3350 [==============================] - 11s 3ms/step - loss: 7.0025e-04\n",
            "Epoch 100/100\n",
            "3350/3350 [==============================] - 11s 3ms/step - loss: 6.3376e-04\n"
          ]
        },
        {
          "output_type": "execute_result",
          "execution_count": 13,
          "data": {
            "text/plain": [
              "<keras.callbacks.callbacks.History at 0x29a42134ec8>"
            ]
          },
          "metadata": {}
        }
      ],
      "execution_count": 13,
      "metadata": {}
    },
    {
      "cell_type": "code",
      "source": [
        "regressor.save(\"forexmodel1.h5\")"
      ],
      "outputs": [],
      "execution_count": 14,
      "metadata": {}
    },
    {
      "cell_type": "code",
      "source": [
        "df_test = pd.read_csv('C:\\\\IPSR\\\\Deep_learning\\\\13-01-2020\\\\Tenyrstest.csv') \n",
        "real_rate = df_test.iloc[:, 1:2].values"
      ],
      "outputs": [],
      "execution_count": 15,
      "metadata": {}
    },
    {
      "cell_type": "code",
      "source": [
        "dataset= pd.concat((df_train['Rate**'], df_test['Rate**']), axis = 0) \n",
        "inputs = dataset[len(dataset) - len(df_test) - 50:].values \n",
        "inputs = inputs.reshape(-1,1) \n",
        "inputs = sc.transform(inputs)"
      ],
      "outputs": [],
      "execution_count": 16,
      "metadata": {}
    },
    {
      "cell_type": "code",
      "source": [
        "inputs.shape"
      ],
      "outputs": [
        {
          "output_type": "execute_result",
          "execution_count": 17,
          "data": {
            "text/plain": [
              "(3639, 1)"
            ]
          },
          "metadata": {}
        }
      ],
      "execution_count": 17,
      "metadata": {}
    },
    {
      "cell_type": "code",
      "source": [
        "X_test = []\n",
        "for i in range(50,377):\n",
        "    X_test.append(inputs[i-50:i, 0]) \n",
        "X_test = np.array(X_test) \n",
        "X_test = np.reshape(X_test, (X_test.shape[0],X_test.shape[1], 1)) \n",
        "predicted_rate = regressor.predict(X_test) \n",
        "pred_new=predicted_rate \n",
        "predicted_rate = sc.inverse_transform(predicted_rate)"
      ],
      "outputs": [],
      "execution_count": 18,
      "metadata": {}
    },
    {
      "cell_type": "code",
      "source": [
        "predicted_rate"
      ],
      "outputs": [
        {
          "output_type": "execute_result",
          "execution_count": 19,
          "data": {
            "text/plain": [
              "array([[68.685715],\n",
              "       [68.7232  ],\n",
              "       [68.93371 ],\n",
              "       [69.21721 ],\n",
              "       [69.45061 ],\n",
              "       [69.88418 ],\n",
              "       [70.38279 ],\n",
              "       [70.76577 ],\n",
              "       [70.804276],\n",
              "       [70.77579 ],\n",
              "       [70.74993 ],\n",
              "       [70.74102 ],\n",
              "       [70.79893 ],\n",
              "       [70.84991 ],\n",
              "       [70.9918  ],\n",
              "       [71.15988 ],\n",
              "       [71.218506],\n",
              "       [71.16552 ],\n",
              "       [71.17942 ],\n",
              "       [71.23824 ],\n",
              "       [71.274536],\n",
              "       [71.40681 ],\n",
              "       [71.52205 ],\n",
              "       [71.53315 ],\n",
              "       [71.47506 ],\n",
              "       [71.4648  ],\n",
              "       [71.44231 ],\n",
              "       [71.470924],\n",
              "       [71.50074 ],\n",
              "       [71.53958 ],\n",
              "       [71.57616 ],\n",
              "       [71.601875],\n",
              "       [71.68445 ],\n",
              "       [71.826836],\n",
              "       [71.921936],\n",
              "       [71.90771 ],\n",
              "       [71.77502 ],\n",
              "       [71.62489 ],\n",
              "       [71.52052 ],\n",
              "       [71.49869 ],\n",
              "       [71.56474 ],\n",
              "       [71.58178 ],\n",
              "       [71.42259 ],\n",
              "       [71.189224],\n",
              "       [71.004875],\n",
              "       [70.9122  ],\n",
              "       [71.04126 ],\n",
              "       [71.25671 ],\n",
              "       [71.33035 ],\n",
              "       [71.341125],\n",
              "       [71.25136 ],\n",
              "       [71.16123 ],\n",
              "       [71.10754 ],\n",
              "       [70.99373 ],\n",
              "       [70.90343 ],\n",
              "       [70.87815 ],\n",
              "       [70.89256 ],\n",
              "       [70.839195],\n",
              "       [70.74547 ],\n",
              "       [70.6239  ],\n",
              "       [70.557785],\n",
              "       [70.65493 ],\n",
              "       [70.859886],\n",
              "       [71.01743 ],\n",
              "       [71.03364 ],\n",
              "       [70.95286 ],\n",
              "       [70.846306],\n",
              "       [70.81563 ],\n",
              "       [70.8888  ],\n",
              "       [70.975365],\n",
              "       [70.978264],\n",
              "       [70.926895],\n",
              "       [70.90093 ],\n",
              "       [70.87624 ],\n",
              "       [70.92175 ],\n",
              "       [71.07669 ],\n",
              "       [71.23224 ],\n",
              "       [71.268486],\n",
              "       [71.19943 ],\n",
              "       [71.094284],\n",
              "       [71.006386],\n",
              "       [70.915146],\n",
              "       [70.80961 ],\n",
              "       [70.71006 ],\n",
              "       [70.69971 ],\n",
              "       [70.72113 ],\n",
              "       [70.74975 ],\n",
              "       [70.77205 ],\n",
              "       [70.752235],\n",
              "       [70.75004 ],\n",
              "       [70.78698 ],\n",
              "       [70.86711 ],\n",
              "       [70.81711 ],\n",
              "       [70.721565],\n",
              "       [70.59598 ],\n",
              "       [70.55624 ],\n",
              "       [70.602135],\n",
              "       [70.75153 ],\n",
              "       [70.90206 ],\n",
              "       [71.06715 ],\n",
              "       [71.20878 ],\n",
              "       [71.294014],\n",
              "       [71.37313 ],\n",
              "       [71.47671 ],\n",
              "       [71.6786  ],\n",
              "       [71.842384],\n",
              "       [71.83272 ],\n",
              "       [71.71599 ],\n",
              "       [71.65186 ],\n",
              "       [71.63398 ],\n",
              "       [71.6233  ],\n",
              "       [71.61845 ],\n",
              "       [71.62288 ],\n",
              "       [71.64039 ],\n",
              "       [71.66232 ],\n",
              "       [71.6577  ],\n",
              "       [71.59    ],\n",
              "       [71.44099 ],\n",
              "       [71.36264 ],\n",
              "       [71.41516 ],\n",
              "       [71.525345],\n",
              "       [71.62676 ],\n",
              "       [71.66477 ],\n",
              "       [71.67065 ],\n",
              "       [71.60611 ],\n",
              "       [71.44803 ],\n",
              "       [71.28762 ],\n",
              "       [71.18654 ],\n",
              "       [71.15294 ],\n",
              "       [71.09993 ],\n",
              "       [70.99474 ],\n",
              "       [70.86627 ],\n",
              "       [70.73995 ],\n",
              "       [70.66293 ],\n",
              "       [70.63232 ],\n",
              "       [70.63328 ],\n",
              "       [70.696884],\n",
              "       [70.82131 ],\n",
              "       [70.93766 ],\n",
              "       [71.03355 ],\n",
              "       [71.07091 ],\n",
              "       [71.07756 ],\n",
              "       [71.06851 ],\n",
              "       [71.08375 ],\n",
              "       [71.11132 ],\n",
              "       [71.12779 ],\n",
              "       [71.15029 ],\n",
              "       [71.2139  ],\n",
              "       [71.28234 ],\n",
              "       [71.33002 ],\n",
              "       [71.32173 ],\n",
              "       [71.249115],\n",
              "       [71.15625 ],\n",
              "       [71.12798 ],\n",
              "       [71.2541  ],\n",
              "       [71.44516 ],\n",
              "       [71.60705 ],\n",
              "       [71.72505 ],\n",
              "       [71.77683 ],\n",
              "       [71.66192 ],\n",
              "       [71.41976 ],\n",
              "       [71.12636 ],\n",
              "       [70.90546 ],\n",
              "       [70.79964 ],\n",
              "       [      nan],\n",
              "       [      nan],\n",
              "       [      nan],\n",
              "       [      nan],\n",
              "       [      nan],\n",
              "       [      nan],\n",
              "       [      nan],\n",
              "       [      nan],\n",
              "       [      nan],\n",
              "       [      nan],\n",
              "       [      nan],\n",
              "       [      nan],\n",
              "       [      nan],\n",
              "       [      nan],\n",
              "       [      nan],\n",
              "       [      nan],\n",
              "       [      nan],\n",
              "       [      nan],\n",
              "       [      nan],\n",
              "       [      nan],\n",
              "       [      nan],\n",
              "       [      nan],\n",
              "       [      nan],\n",
              "       [      nan],\n",
              "       [      nan],\n",
              "       [      nan],\n",
              "       [      nan],\n",
              "       [      nan],\n",
              "       [      nan],\n",
              "       [      nan],\n",
              "       [      nan],\n",
              "       [      nan],\n",
              "       [      nan],\n",
              "       [      nan],\n",
              "       [      nan],\n",
              "       [      nan],\n",
              "       [      nan],\n",
              "       [      nan],\n",
              "       [      nan],\n",
              "       [      nan],\n",
              "       [      nan],\n",
              "       [      nan],\n",
              "       [      nan],\n",
              "       [      nan],\n",
              "       [      nan],\n",
              "       [      nan],\n",
              "       [      nan],\n",
              "       [      nan],\n",
              "       [      nan],\n",
              "       [      nan],\n",
              "       [      nan],\n",
              "       [      nan],\n",
              "       [      nan],\n",
              "       [      nan],\n",
              "       [      nan],\n",
              "       [      nan],\n",
              "       [      nan],\n",
              "       [      nan],\n",
              "       [      nan],\n",
              "       [      nan],\n",
              "       [      nan],\n",
              "       [      nan],\n",
              "       [      nan],\n",
              "       [      nan],\n",
              "       [      nan],\n",
              "       [      nan],\n",
              "       [      nan],\n",
              "       [      nan],\n",
              "       [      nan],\n",
              "       [      nan],\n",
              "       [      nan],\n",
              "       [      nan],\n",
              "       [      nan],\n",
              "       [      nan],\n",
              "       [      nan],\n",
              "       [      nan],\n",
              "       [      nan],\n",
              "       [      nan],\n",
              "       [      nan],\n",
              "       [      nan],\n",
              "       [      nan],\n",
              "       [      nan],\n",
              "       [      nan],\n",
              "       [      nan],\n",
              "       [      nan],\n",
              "       [      nan],\n",
              "       [      nan],\n",
              "       [      nan],\n",
              "       [      nan],\n",
              "       [      nan],\n",
              "       [      nan],\n",
              "       [      nan],\n",
              "       [      nan],\n",
              "       [      nan],\n",
              "       [      nan],\n",
              "       [      nan],\n",
              "       [      nan],\n",
              "       [      nan],\n",
              "       [      nan],\n",
              "       [      nan],\n",
              "       [      nan],\n",
              "       [      nan],\n",
              "       [      nan],\n",
              "       [      nan],\n",
              "       [      nan],\n",
              "       [      nan],\n",
              "       [      nan],\n",
              "       [      nan],\n",
              "       [      nan],\n",
              "       [      nan],\n",
              "       [      nan],\n",
              "       [      nan],\n",
              "       [      nan],\n",
              "       [      nan],\n",
              "       [      nan],\n",
              "       [      nan],\n",
              "       [      nan],\n",
              "       [      nan],\n",
              "       [      nan],\n",
              "       [      nan],\n",
              "       [      nan],\n",
              "       [      nan],\n",
              "       [      nan],\n",
              "       [      nan],\n",
              "       [      nan],\n",
              "       [      nan],\n",
              "       [      nan],\n",
              "       [      nan],\n",
              "       [      nan],\n",
              "       [      nan],\n",
              "       [      nan],\n",
              "       [      nan],\n",
              "       [      nan],\n",
              "       [      nan],\n",
              "       [      nan],\n",
              "       [      nan],\n",
              "       [      nan],\n",
              "       [      nan],\n",
              "       [      nan],\n",
              "       [      nan],\n",
              "       [      nan],\n",
              "       [      nan],\n",
              "       [      nan],\n",
              "       [      nan],\n",
              "       [      nan],\n",
              "       [      nan],\n",
              "       [      nan],\n",
              "       [      nan],\n",
              "       [      nan],\n",
              "       [      nan],\n",
              "       [      nan],\n",
              "       [      nan],\n",
              "       [      nan],\n",
              "       [      nan],\n",
              "       [      nan],\n",
              "       [      nan],\n",
              "       [      nan],\n",
              "       [      nan],\n",
              "       [      nan],\n",
              "       [      nan],\n",
              "       [      nan],\n",
              "       [      nan],\n",
              "       [      nan]], dtype=float32)"
            ]
          },
          "metadata": {}
        }
      ],
      "execution_count": 19,
      "metadata": {}
    },
    {
      "cell_type": "code",
      "source": [
        "(X_test[-1]).shape"
      ],
      "outputs": [
        {
          "output_type": "execute_result",
          "execution_count": 20,
          "data": {
            "text/plain": [
              "(50, 1)"
            ]
          },
          "metadata": {}
        }
      ],
      "execution_count": 20,
      "metadata": {}
    },
    {
      "cell_type": "code",
      "source": [
        "predicted_rate[-1]"
      ],
      "outputs": [
        {
          "output_type": "execute_result",
          "execution_count": 21,
          "data": {
            "text/plain": [
              "array([nan], dtype=float32)"
            ]
          },
          "metadata": {}
        }
      ],
      "execution_count": 21,
      "metadata": {}
    },
    {
      "cell_type": "code",
      "source": [
        "predicted_rate.shape "
      ],
      "outputs": [
        {
          "output_type": "execute_result",
          "execution_count": 22,
          "data": {
            "text/plain": [
              "(327, 1)"
            ]
          },
          "metadata": {}
        }
      ],
      "execution_count": 22,
      "metadata": {}
    },
    {
      "cell_type": "code",
      "source": [
        "real_rate.shape"
      ],
      "outputs": [
        {
          "output_type": "execute_result",
          "execution_count": 23,
          "data": {
            "text/plain": [
              "(3589, 1)"
            ]
          },
          "metadata": {}
        }
      ],
      "execution_count": 23,
      "metadata": {}
    },
    {
      "cell_type": "code",
      "source": [
        "plt.plot(real_rate, color = 'red', label = 'Real rate') \n",
        "plt.plot(predicted_rate, color = 'black', label = 'Predicted rate') \n",
        "plt.title('Forex exchange rate US Dollar - Indian Rupee') \n",
        "plt.xlabel('Time') \n",
        "plt.ylabel('exchange rate') \n",
        "plt.legend() \n",
        "plt.show()"
      ],
      "outputs": [
        {
          "output_type": "display_data",
          "data": {
            "image/png": "[encoded data removed]",
            "text/plain": [
              "<Figure size 432x288 with 1 Axes>"
            ]
          },
          "metadata": {
            "needs_background": "light"
          }
        }
      ],
      "execution_count": 24,
      "metadata": {}
    },
    {
      "cell_type": "code",
      "source": [],
      "outputs": [],
      "execution_count": null,
      "metadata": {}
    }
  ],
  "metadata": {
    "kernelspec": {
      "display_name": "Python 3",
      "language": "python",
      "name": "python3"
    },
    "language_info": {
      "codemirror_mode": {
        "name": "ipython",
        "version": 3
      },
      "file_extension": ".py",
      "mimetype": "text/x-python",
      "name": "python",
      "nbconvert_exporter": "python",
      "pygments_lexer": "ipython3",
      "version": "3.7.4"
    },
    "nteract": {
      "version": "0.15.0"
    }
  },
  "nbformat": 4,
  "nbformat_minor": 2
}